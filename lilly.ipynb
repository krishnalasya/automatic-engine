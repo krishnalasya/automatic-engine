{
  "nbformat": 4,
  "nbformat_minor": 0,
  "metadata": {
    "colab": {
      "provenance": [],
      "authorship_tag": "ABX9TyPtSEy5atvQg0togY8F37R5",
      "include_colab_link": true
    },
    "kernelspec": {
      "name": "python3",
      "display_name": "Python 3"
    },
    "language_info": {
      "name": "python"
    }
  },
  "cells": [
    {
      "cell_type": "markdown",
      "metadata": {
        "id": "view-in-github",
        "colab_type": "text"
      },
      "source": [
        "<a href=\"https://colab.research.google.com/github/krishnalasya/automatic-engine/blob/main/lilly.ipynb\" target=\"_parent\"><img src=\"https://colab.research.google.com/assets/colab-badge.svg\" alt=\"Open In Colab\"/></a>"
      ]
    },
    {
      "cell_type": "code",
      "source": [
        "num=[2,4,3,1,2,5,3,2,6,3,6,7]\n",
        "unique=[]\n",
        "for i in num:\n",
        "  if i not in unique:\n",
        "    unique.append(i)\n",
        "\n"
      ],
      "metadata": {
        "id": "WLMYYlYefvPf"
      },
      "execution_count": null,
      "outputs": []
    },
    {
      "cell_type": "code",
      "execution_count": null,
      "metadata": {
        "id": "cx9jNWkkfFYZ",
        "colab": {
          "base_uri": "https://localhost:8080/"
        },
        "outputId": "cf618ce1-eb53-4c49-f0c3-5b6323d7d159"
      },
      "outputs": [
        {
          "output_type": "execute_result",
          "data": {
            "text/plain": [
              "[1, 2, 3, 4, 5, 6, 7]"
            ]
          },
          "metadata": {},
          "execution_count": 19
        }
      ],
      "source": [
        "unique.sort()\n",
        "unique"
      ]
    },
    {
      "cell_type": "code",
      "source": [
        "d={'salary': [100,300,400,120,160,145,200]}\n",
        "for i in d.values():\n",
        "  for j in i:\n",
        "    if j<400 and j>120:\n",
        "      print(j)"
      ],
      "metadata": {
        "colab": {
          "base_uri": "https://localhost:8080/"
        },
        "id": "QAt3TyoziFLh",
        "outputId": "ca1e9929-2a13-4c41-cca4-1b70045c277c"
      },
      "execution_count": null,
      "outputs": [
        {
          "output_type": "stream",
          "name": "stdout",
          "text": [
            "300\n",
            "160\n",
            "145\n",
            "200\n"
          ]
        }
      ]
    },
    {
      "cell_type": "code",
      "source": [],
      "metadata": {
        "id": "91rlL6AXg-75"
      },
      "execution_count": null,
      "outputs": []
    },
    {
      "cell_type": "markdown",
      "source": [],
      "metadata": {
        "id": "cKOozdF3i_An"
      }
    }
  ]
}